{
  "nbformat": 4,
  "nbformat_minor": 0,
  "metadata": {
    "colab": {
      "name": "pdf to table.ipynb",
      "provenance": []
    },
    "kernelspec": {
      "name": "python3",
      "display_name": "Python 3"
    },
    "language_info": {
      "name": "python"
    }
  },
  "cells": [
    {
      "cell_type": "code",
      "source": [
        "!apt-get install ghostscript\n",
        "from tkinter import *\n",
        "!pip install \"camelot-py[cv]\" -q\n",
        "import camelot\n",
        "import pandas as pd\n",
        "!wget -O keppel.pdf http://www.kepcorp.com/annualreport2018/pdf/keppel-corporation-limited-annual-report-2018.pdf\n",
        "\n",
        "filePath = \"keppel.pdf\"\n",
        "tables = camelot.read_pdf(filePath, pages='all', flavor='stream')\n",
        "for table in tables:\n",
        "  if table.parsing_report.get('accuracy') == 0:\n",
        "    tables.remove(table)\n",
        "\n",
        "output_excel_file = \"output.xlsx\"\n",
        "tables.export(output_excel_file, f=\"excel\")"
      ],
      "metadata": {
        "id": "JEE6Sg7BKPwj"
      },
      "execution_count": null,
      "outputs": []
    }
  ]
}
