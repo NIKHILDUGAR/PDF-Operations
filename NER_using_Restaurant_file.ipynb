{
  "cells": [
    {
      "cell_type": "code",
      "execution_count": null,
      "id": "stable-entrepreneur",
      "metadata": {
        "_kg_hide-output": true,
        "execution": {
          "iopub.execute_input": "2021-06-27T07:46:09.474837Z",
          "iopub.status.busy": "2021-06-27T07:46:09.460974Z",
          "iopub.status.idle": "2021-06-27T07:47:13.225256Z",
          "shell.execute_reply": "2021-06-27T07:47:13.224512Z",
          "shell.execute_reply.started": "2021-06-27T07:36:24.375864Z"
        },
        "papermill": {
          "duration": 63.845989,
          "end_time": "2021-06-27T07:47:13.225462",
          "exception": false,
          "start_time": "2021-06-27T07:46:09.379473",
          "status": "completed"
        },
        "tags": [],
        "id": "stable-entrepreneur"
      },
      "outputs": [],
      "source": [
        "!pip install spacy==3.0.0\n",
        "!pip install sklearn_crfsuite\n",
        "!pip install scikit-learn==0.23.2\n",
        "!pip install pytorch-crf"
      ]
    },
    {
      "cell_type": "code",
      "source": [
        "! wget https://groups.csail.mit.edu/sls/downloads/restaurant/restauranttrain.bio"
      ],
      "metadata": {
        "id": "KVQh_OX0PKY8"
      },
      "id": "KVQh_OX0PKY8",
      "execution_count": null,
      "outputs": []
    },
    {
      "cell_type": "code",
      "execution_count": null,
      "id": "loaded-suggestion",
      "metadata": {
        "_kg_hide-input": true,
        "execution": {
          "iopub.execute_input": "2021-06-27T07:47:13.473138Z",
          "iopub.status.busy": "2021-06-27T07:47:13.471927Z",
          "iopub.status.idle": "2021-06-27T07:47:24.517869Z",
          "shell.execute_reply": "2021-06-27T07:47:24.516685Z",
          "shell.execute_reply.started": "2021-06-27T07:37:28.917896Z"
        },
        "papermill": {
          "duration": 11.171511,
          "end_time": "2021-06-27T07:47:24.518063",
          "exception": false,
          "start_time": "2021-06-27T07:47:13.346552",
          "status": "completed"
        },
        "tags": [],
        "id": "loaded-suggestion"
      },
      "outputs": [],
      "source": [
        "# import main libraries\n",
        "from IPython.display import Image\n",
        "from IPython.core.display import display, HTML\n",
        "import pandas as pd\n",
        "from collections import Counter\n",
        "import random\n",
        "from spacy import displacy\n",
        "import json\n",
        "import os\n",
        "from spacy.training import offsets_to_biluo_tags\n",
        "import spacy\n",
        "from sklearn.model_selection import train_test_split\n",
        "import pandas as pd\n",
        "import numpy as np\n",
        "import sklearn\n",
        "import sklearn_crfsuite\n",
        "from sklearn_crfsuite import scorers\n",
        "from sklearn_crfsuite import metrics\n",
        "from sklearn.metrics import f1_score"
      ]
    },
    {
      "cell_type": "code",
      "execution_count": null,
      "id": "indian-contributor",
      "metadata": {
        "execution": {
          "iopub.execute_input": "2021-06-27T07:47:25.011582Z",
          "iopub.status.busy": "2021-06-27T07:47:25.010901Z",
          "iopub.status.idle": "2021-06-27T07:47:25.051680Z",
          "shell.execute_reply": "2021-06-27T07:47:25.050766Z",
          "shell.execute_reply.started": "2021-06-27T07:37:41.012820Z"
        },
        "papermill": {
          "duration": 0.165897,
          "end_time": "2021-06-27T07:47:25.051865",
          "exception": false,
          "start_time": "2021-06-27T07:47:24.885968",
          "status": "completed"
        },
        "scrolled": true,
        "tags": [],
        "id": "indian-contributor"
      },
      "outputs": [],
      "source": [
        "with open('restauranttrain.bio', 'r') as f:\n",
        "    for line in f.readlines()[:30]:\n",
        "        print(line)"
      ]
    },
    {
      "cell_type": "code",
      "execution_count": null,
      "id": "pediatric-engine",
      "metadata": {
        "execution": {
          "iopub.execute_input": "2021-06-27T07:47:25.546534Z",
          "iopub.status.busy": "2021-06-27T07:47:25.545462Z",
          "iopub.status.idle": "2021-06-27T07:47:25.635179Z",
          "shell.execute_reply": "2021-06-27T07:47:25.634466Z",
          "shell.execute_reply.started": "2021-06-27T07:37:41.059564Z"
        },
        "papermill": {
          "duration": 0.217467,
          "end_time": "2021-06-27T07:47:25.635330",
          "exception": false,
          "start_time": "2021-06-27T07:47:25.417863",
          "status": "completed"
        },
        "tags": [],
        "id": "pediatric-engine"
      },
      "outputs": [],
      "source": [
        "# switch column places\n",
        "with open('restauranttrain.bio', 'r') as f:\n",
        "    with open('restauranttrain_updated.bio', 'w') as w:\n",
        "        for line in f.readlines():\n",
        "            if line == '\\n':\n",
        "                w.write(line)\n",
        "            else:\n",
        "                w.write('\\t'.join(line.strip().split('\\t')[::-1]) + '\\n')"
      ]
    },
    {
      "cell_type": "code",
      "execution_count": null,
      "id": "bizarre-italic",
      "metadata": {
        "execution": {
          "iopub.execute_input": "2021-06-27T07:47:25.889538Z",
          "iopub.status.busy": "2021-06-27T07:47:25.888454Z",
          "iopub.status.idle": "2021-06-27T07:47:25.983723Z",
          "shell.execute_reply": "2021-06-27T07:47:25.983125Z",
          "shell.execute_reply.started": "2021-06-27T07:37:41.159388Z"
        },
        "papermill": {
          "duration": 0.225657,
          "end_time": "2021-06-27T07:47:25.983868",
          "exception": false,
          "start_time": "2021-06-27T07:47:25.758211",
          "status": "completed"
        },
        "tags": [],
        "id": "bizarre-italic"
      },
      "outputs": [],
      "source": [
        "# split into train and validation\n",
        "count = 0\n",
        "with open('restauranttrain.bio', 'r') as f:\n",
        "    with open('restauranttrain_updated_train.bio', 'w') as w1:\n",
        "        with open('restauranttrain_updated_valid.bio', 'w') as w2:\n",
        "            for line in f.readlines():\n",
        "                if count < 6500:\n",
        "                    if line == '\\n':\n",
        "                        w1.write(line)\n",
        "                        count += 1\n",
        "                    else:\n",
        "                        w1.write('\\t'.join(line.strip().split('\\t')[::-1]) + '\\n')\n",
        "                else:\n",
        "                    if line == '\\n':\n",
        "                        w2.write(line)\n",
        "                    else:\n",
        "                        w2.write('\\t'.join(line.strip().split('\\t')[::-1]) + '\\n')"
      ]
    },
    {
      "cell_type": "code",
      "execution_count": null,
      "id": "hindu-payday",
      "metadata": {
        "execution": {
          "iopub.execute_input": "2021-06-27T07:47:26.234767Z",
          "iopub.status.busy": "2021-06-27T07:47:26.233692Z",
          "iopub.status.idle": "2021-06-27T07:47:26.540059Z",
          "shell.execute_reply": "2021-06-27T07:47:26.540595Z",
          "shell.execute_reply.started": "2021-06-27T07:37:41.273410Z"
        },
        "papermill": {
          "duration": 0.434618,
          "end_time": "2021-06-27T07:47:26.540772",
          "exception": false,
          "start_time": "2021-06-27T07:47:26.106154",
          "status": "completed"
        },
        "tags": [],
        "id": "hindu-payday"
      },
      "outputs": [],
      "source": [
        "data = []\n",
        "labels = []\n",
        "with open('restauranttrain_updated.bio', 'r') as f:\n",
        "    cur_data = []\n",
        "    cur_label = []\n",
        "    for line in f.readlines():\n",
        "        if line == '\\n':\n",
        "            data.append(cur_data)\n",
        "            labels.append(cur_label)\n",
        "            cur_data = []\n",
        "            cur_label = []\n",
        "        else:\n",
        "            cur_data.append(line.strip().split('\\t')[0])\n",
        "            cur_label.append(line.strip().split('\\t')[1])"
      ]
    },
    {
      "cell_type": "code",
      "execution_count": null,
      "id": "brown-sherman",
      "metadata": {
        "execution": {
          "iopub.execute_input": "2021-06-27T07:47:27.051603Z",
          "iopub.status.busy": "2021-06-27T07:47:27.050603Z",
          "iopub.status.idle": "2021-06-27T07:47:27.059212Z",
          "shell.execute_reply": "2021-06-27T07:47:27.059718Z",
          "shell.execute_reply.started": "2021-06-27T07:37:41.632508Z"
        },
        "papermill": {
          "duration": 0.132994,
          "end_time": "2021-06-27T07:47:27.059914",
          "exception": false,
          "start_time": "2021-06-27T07:47:26.926920",
          "status": "completed"
        },
        "scrolled": true,
        "tags": [],
        "id": "brown-sherman"
      },
      "outputs": [],
      "source": [
        "for w, e in zip(data[0], labels[0]):\n",
        "    print(f'{w}\\t{e}')\n"
      ]
    },
    {
      "cell_type": "code",
      "execution_count": null,
      "id": "minute-version",
      "metadata": {
        "execution": {
          "iopub.execute_input": "2021-06-27T07:47:27.551744Z",
          "iopub.status.busy": "2021-06-27T07:47:27.551103Z",
          "iopub.status.idle": "2021-06-27T07:47:27.554211Z",
          "shell.execute_reply": "2021-06-27T07:47:27.554662Z"
        },
        "papermill": {
          "duration": 0.129883,
          "end_time": "2021-06-27T07:47:27.554849",
          "exception": false,
          "start_time": "2021-06-27T07:47:27.424966",
          "status": "completed"
        },
        "tags": [],
        "id": "minute-version"
      },
      "outputs": [],
      "source": [
        "predictions = []\n",
        "for word in data[0]:\n",
        "    if word.isdigit():\n",
        "        predictions.append('B-Rating')\n",
        "    else:\n",
        "        predictions.append('O')"
      ]
    },
    {
      "cell_type": "code",
      "execution_count": null,
      "id": "realistic-entrepreneur",
      "metadata": {
        "execution": {
          "iopub.execute_input": "2021-06-27T07:47:27.808292Z",
          "iopub.status.busy": "2021-06-27T07:47:27.807612Z",
          "iopub.status.idle": "2021-06-27T07:47:27.813155Z",
          "shell.execute_reply": "2021-06-27T07:47:27.813674Z"
        },
        "papermill": {
          "duration": 0.136481,
          "end_time": "2021-06-27T07:47:27.813846",
          "exception": false,
          "start_time": "2021-06-27T07:47:27.677365",
          "status": "completed"
        },
        "scrolled": true,
        "tags": [],
        "id": "realistic-entrepreneur"
      },
      "outputs": [],
      "source": [
        "f1_score(labels[0], predictions, average='weighted')"
      ]
    },
    {
      "cell_type": "code",
      "execution_count": null,
      "id": "digital-sudan",
      "metadata": {
        "execution": {
          "iopub.execute_input": "2021-06-27T07:47:28.302934Z",
          "iopub.status.busy": "2021-06-27T07:47:28.302243Z",
          "iopub.status.idle": "2021-06-27T07:47:28.393214Z",
          "shell.execute_reply": "2021-06-27T07:47:28.392626Z",
          "shell.execute_reply.started": "2021-06-27T07:37:41.674914Z"
        },
        "papermill": {
          "duration": 0.214404,
          "end_time": "2021-06-27T07:47:28.393359",
          "exception": false,
          "start_time": "2021-06-27T07:47:28.178955",
          "status": "completed"
        },
        "tags": [],
        "id": "digital-sudan"
      },
      "outputs": [],
      "source": [
        "df = pd.DataFrame({'sent_id': [i for j in [[i] * len(s) for i, s in enumerate(data)] for i in j],\n",
        "                   'data': [i for j in data for i in j],\n",
        "                   'entities': [i for j in labels for i in j]})\n",
        "df.head(10)"
      ]
    },
    {
      "cell_type": "code",
      "execution_count": null,
      "id": "forbidden-heating",
      "metadata": {
        "execution": {
          "iopub.execute_input": "2021-06-27T07:47:28.651998Z",
          "iopub.status.busy": "2021-06-27T07:47:28.650929Z",
          "iopub.status.idle": "2021-06-27T07:47:29.322108Z",
          "shell.execute_reply": "2021-06-27T07:47:29.321358Z",
          "shell.execute_reply.started": "2021-06-27T07:37:41.779854Z"
        },
        "papermill": {
          "duration": 0.807133,
          "end_time": "2021-06-27T07:47:29.322264",
          "exception": false,
          "start_time": "2021-06-27T07:47:28.515131",
          "status": "completed"
        },
        "tags": [],
        "id": "forbidden-heating"
      },
      "outputs": [],
      "source": [
        "class SentenceGetter(object):\n",
        "    \n",
        "    def __init__(self, data):\n",
        "        self.n_sent = 1\n",
        "        self.data = data\n",
        "        self.empty = False\n",
        "        agg_func = lambda s: [(w, t) for w, t in zip(s['data'].values.tolist(), \n",
        "                                                           s['entities'].values.tolist())]\n",
        "        self.grouped = self.data.groupby('sent_id').apply(agg_func)\n",
        "        self.sentences = [s for s in self.grouped]\n",
        "        \n",
        "    def get_next(self):\n",
        "        try: \n",
        "            s = self.grouped['Sentence: {}'.format(self.n_sent)]\n",
        "            self.n_sent += 1\n",
        "            return s \n",
        "        except:\n",
        "            return None\n",
        "\n",
        "getter = SentenceGetter(df)\n",
        "sentences = getter.sentences"
      ]
    },
    {
      "cell_type": "code",
      "execution_count": null,
      "id": "fatal-charm",
      "metadata": {
        "execution": {
          "iopub.execute_input": "2021-06-27T07:47:29.581167Z",
          "iopub.status.busy": "2021-06-27T07:47:29.580234Z",
          "iopub.status.idle": "2021-06-27T07:47:29.584101Z",
          "shell.execute_reply": "2021-06-27T07:47:29.583349Z",
          "shell.execute_reply.started": "2021-06-27T07:37:42.482535Z"
        },
        "papermill": {
          "duration": 0.138942,
          "end_time": "2021-06-27T07:47:29.584274",
          "exception": false,
          "start_time": "2021-06-27T07:47:29.445332",
          "status": "completed"
        },
        "tags": [],
        "id": "fatal-charm"
      },
      "outputs": [],
      "source": [
        "def word2features(sent, i):\n",
        "    word = sent[i][0]\n",
        "    postag = sent[i][1]\n",
        "    \n",
        "    features = {\n",
        "        'bias': 1.0, \n",
        "        'word.lower()': word.lower(), \n",
        "        'word[-3:]': word[-3:],\n",
        "        'word[-2:]': word[-2:],\n",
        "        'word.isupper()': word.isupper(),\n",
        "        'word.istitle()': word.istitle(),\n",
        "        'word.isdigit()': word.isdigit()\n",
        "    }\n",
        "    if i > 0:\n",
        "        word1 = sent[i-1][0]\n",
        "        features.update({\n",
        "            '-1:word.lower()': word1.lower(),\n",
        "            '-1:word.istitle()': word1.istitle(),\n",
        "            '-1:word.isupper()': word1.isupper()\n",
        "        })\n",
        "    else:\n",
        "        features['BOS'] = True\n",
        "    if i < len(sent)-1:\n",
        "        word1 = sent[i+1][0]\n",
        "        features.update({\n",
        "            '+1:word.lower()': word1.lower(),\n",
        "            '+1:word.istitle()': word1.istitle(),\n",
        "            '+1:word.isupper()': word1.isupper()\n",
        "        })\n",
        "    else:\n",
        "        features['EOS'] = True\n",
        "\n",
        "    return features\n",
        "\n",
        "def sent2features(sent):\n",
        "    return [word2features(sent, i) for i in range(len(sent))]\n",
        "\n",
        "def sent2labels(sent):\n",
        "    return [label for token, label in sent]\n",
        "\n",
        "def sent2tokens(sent):\n",
        "    return [token for token, label in sent]"
      ]
    },
    {
      "cell_type": "code",
      "execution_count": null,
      "id": "informed-vintage",
      "metadata": {
        "execution": {
          "iopub.execute_input": "2021-06-27T07:47:29.854376Z",
          "iopub.status.busy": "2021-06-27T07:47:29.849118Z",
          "iopub.status.idle": "2021-06-27T07:47:30.121916Z",
          "shell.execute_reply": "2021-06-27T07:47:30.121377Z",
          "shell.execute_reply.started": "2021-06-27T07:37:42.499082Z"
        },
        "papermill": {
          "duration": 0.4116,
          "end_time": "2021-06-27T07:47:30.122105",
          "exception": false,
          "start_time": "2021-06-27T07:47:29.710505",
          "status": "completed"
        },
        "tags": [],
        "id": "informed-vintage"
      },
      "outputs": [],
      "source": [
        "X = [sent2features(s) for s in sentences]\n",
        "y = [sent2labels(s) for s in sentences]"
      ]
    },
    {
      "cell_type": "code",
      "execution_count": null,
      "id": "transsexual-offense",
      "metadata": {
        "execution": {
          "iopub.execute_input": "2021-06-27T07:47:30.627896Z",
          "iopub.status.busy": "2021-06-27T07:47:30.626849Z",
          "iopub.status.idle": "2021-06-27T07:47:30.630479Z",
          "shell.execute_reply": "2021-06-27T07:47:30.629752Z",
          "shell.execute_reply.started": "2021-06-27T07:37:42.843305Z"
        },
        "papermill": {
          "duration": 0.131488,
          "end_time": "2021-06-27T07:47:30.630631",
          "exception": false,
          "start_time": "2021-06-27T07:47:30.499143",
          "status": "completed"
        },
        "tags": [],
        "id": "transsexual-offense"
      },
      "outputs": [],
      "source": [
        "X_train = X[:7000]\n",
        "X_test = X[7000:]\n",
        "y_train = y[:7000]\n",
        "y_test = y[7000:]"
      ]
    },
    {
      "cell_type": "code",
      "execution_count": null,
      "id": "stainless-roulette",
      "metadata": {
        "_kg_hide-output": true,
        "execution": {
          "iopub.execute_input": "2021-06-27T07:47:30.880817Z",
          "iopub.status.busy": "2021-06-27T07:47:30.879714Z",
          "iopub.status.idle": "2021-06-27T07:47:44.002995Z",
          "shell.execute_reply": "2021-06-27T07:47:44.002361Z",
          "shell.execute_reply.started": "2021-06-27T07:37:42.855405Z"
        },
        "papermill": {
          "duration": 13.250885,
          "end_time": "2021-06-27T07:47:44.003144",
          "exception": false,
          "start_time": "2021-06-27T07:47:30.752259",
          "status": "completed"
        },
        "tags": [],
        "id": "stainless-roulette"
      },
      "outputs": [],
      "source": [
        "%%time\n",
        "crf = sklearn_crfsuite.CRF(\n",
        "    algorithm='lbfgs',\n",
        "    c1=0.1,\n",
        "    c2=0.1,\n",
        "    max_iterations=100,\n",
        "    all_possible_transitions=True,\n",
        "    verbose=True\n",
        ")\n",
        "crf.fit(X_train, y_train)"
      ]
    },
    {
      "cell_type": "code",
      "execution_count": null,
      "id": "narrow-forestry",
      "metadata": {
        "execution": {
          "iopub.execute_input": "2021-06-27T07:47:44.280799Z",
          "iopub.status.busy": "2021-06-27T07:47:44.279792Z",
          "iopub.status.idle": "2021-06-27T07:47:44.285010Z",
          "shell.execute_reply": "2021-06-27T07:47:44.284328Z",
          "shell.execute_reply.started": "2021-06-27T07:37:56.058553Z"
        },
        "papermill": {
          "duration": 0.149664,
          "end_time": "2021-06-27T07:47:44.285154",
          "exception": false,
          "start_time": "2021-06-27T07:47:44.135490",
          "status": "completed"
        },
        "tags": [],
        "id": "narrow-forestry"
      },
      "outputs": [],
      "source": [
        "all_entities = sorted(df.entities.unique().tolist())"
      ]
    },
    {
      "cell_type": "code",
      "execution_count": null,
      "id": "checked-vegetation",
      "metadata": {
        "execution": {
          "iopub.execute_input": "2021-06-27T07:47:44.585605Z",
          "iopub.status.busy": "2021-06-27T07:47:44.553501Z",
          "iopub.status.idle": "2021-06-27T07:47:44.719512Z",
          "shell.execute_reply": "2021-06-27T07:47:44.718888Z",
          "shell.execute_reply.started": "2021-06-27T07:37:56.076676Z"
        },
        "papermill": {
          "duration": 0.302739,
          "end_time": "2021-06-27T07:47:44.719659",
          "exception": false,
          "start_time": "2021-06-27T07:47:44.416920",
          "status": "completed"
        },
        "tags": [],
        "id": "checked-vegetation"
      },
      "outputs": [],
      "source": [
        "y_pred = crf.predict(X_test)\n",
        "metrics.flat_f1_score(y_test, y_pred, average='weighted', labels=all_entities)"
      ]
    },
    {
      "cell_type": "code",
      "execution_count": null,
      "id": "fluid-bench",
      "metadata": {
        "execution": {
          "iopub.execute_input": "2021-06-27T07:47:44.997242Z",
          "iopub.status.busy": "2021-06-27T07:47:44.991818Z",
          "iopub.status.idle": "2021-06-27T07:47:45.150677Z",
          "shell.execute_reply": "2021-06-27T07:47:45.150155Z",
          "shell.execute_reply.started": "2021-06-27T07:37:56.359624Z"
        },
        "papermill": {
          "duration": 0.299435,
          "end_time": "2021-06-27T07:47:45.150820",
          "exception": false,
          "start_time": "2021-06-27T07:47:44.851385",
          "status": "completed"
        },
        "tags": [],
        "id": "fluid-bench"
      },
      "outputs": [],
      "source": [
        "y_pred = crf.predict(X_test)\n",
        "metrics.flat_f1_score(y_test, y_pred, average='weighted', labels=[i for i in all_entities if i != 'O'])"
      ]
    },
    {
      "cell_type": "code",
      "execution_count": null,
      "id": "written-keyboard",
      "metadata": {
        "execution": {
          "iopub.execute_input": "2021-06-27T07:47:45.420817Z",
          "iopub.status.busy": "2021-06-27T07:47:45.420149Z",
          "iopub.status.idle": "2021-06-27T07:47:45.545017Z",
          "shell.execute_reply": "2021-06-27T07:47:45.544363Z",
          "shell.execute_reply.started": "2021-06-27T07:37:56.539400Z"
        },
        "papermill": {
          "duration": 0.262255,
          "end_time": "2021-06-27T07:47:45.545158",
          "exception": false,
          "start_time": "2021-06-27T07:47:45.282903",
          "status": "completed"
        },
        "tags": [],
        "id": "written-keyboard"
      },
      "outputs": [],
      "source": [
        "print(metrics.flat_classification_report(y_test, y_pred, labels = all_entities))"
      ]
    },
    {
      "cell_type": "code",
      "execution_count": null,
      "id": "graphic-portable",
      "metadata": {
        "execution": {
          "iopub.execute_input": "2021-06-27T07:47:47.686532Z",
          "iopub.status.busy": "2021-06-27T07:47:47.684673Z",
          "iopub.status.idle": "2021-06-27T07:47:54.848766Z",
          "shell.execute_reply": "2021-06-27T07:47:54.848214Z",
          "shell.execute_reply.started": "2021-06-27T07:37:57.459877Z"
        },
        "papermill": {
          "duration": 7.322271,
          "end_time": "2021-06-27T07:47:54.848923",
          "exception": false,
          "start_time": "2021-06-27T07:47:47.526652",
          "status": "completed"
        },
        "tags": [],
        "id": "graphic-portable",
        "collapsed": true
      },
      "outputs": [],
      "source": [
        "!python -m spacy init config base_config.cfg -p ner"
      ]
    },
    {
      "cell_type": "code",
      "execution_count": null,
      "id": "boolean-mainstream",
      "metadata": {
        "execution": {
          "iopub.execute_input": "2021-06-27T07:47:55.150420Z",
          "iopub.status.busy": "2021-06-27T07:47:55.141335Z",
          "iopub.status.idle": "2021-06-27T07:48:02.523747Z",
          "shell.execute_reply": "2021-06-27T07:48:02.523181Z",
          "shell.execute_reply.started": "2021-06-27T07:38:05.647225Z"
        },
        "papermill": {
          "duration": 7.531735,
          "end_time": "2021-06-27T07:48:02.523906",
          "exception": false,
          "start_time": "2021-06-27T07:47:54.992171",
          "status": "completed"
        },
        "tags": [],
        "id": "boolean-mainstream"
      },
      "outputs": [],
      "source": [
        "!python -m spacy init fill-config base_config.cfg config.cfg"
      ]
    },
    {
      "cell_type": "code",
      "execution_count": null,
      "id": "usual-version",
      "metadata": {
        "execution": {
          "iopub.execute_input": "2021-06-27T07:48:02.838452Z",
          "iopub.status.busy": "2021-06-27T07:48:02.837329Z",
          "iopub.status.idle": "2021-06-27T07:48:11.301869Z",
          "shell.execute_reply": "2021-06-27T07:48:11.301147Z",
          "shell.execute_reply.started": "2021-06-27T07:38:14.074845Z"
        },
        "papermill": {
          "duration": 8.627001,
          "end_time": "2021-06-27T07:48:11.302031",
          "exception": false,
          "start_time": "2021-06-27T07:48:02.675030",
          "status": "completed"
        },
        "scrolled": true,
        "tags": [],
        "id": "usual-version"
      },
      "outputs": [],
      "source": [
        "!python -m spacy convert restauranttrain_updated.bio . -t json -c ner"
      ]
    },
    {
      "cell_type": "code",
      "execution_count": null,
      "id": "signal-marks",
      "metadata": {
        "execution": {
          "iopub.execute_input": "2021-06-27T07:48:11.598260Z",
          "iopub.status.busy": "2021-06-27T07:48:11.597553Z",
          "iopub.status.idle": "2021-06-27T07:48:22.462369Z",
          "shell.execute_reply": "2021-06-27T07:48:22.461503Z",
          "shell.execute_reply.started": "2021-06-27T07:38:23.439091Z"
        },
        "papermill": {
          "duration": 11.015278,
          "end_time": "2021-06-27T07:48:22.462526",
          "exception": false,
          "start_time": "2021-06-27T07:48:11.447248",
          "status": "completed"
        },
        "tags": [],
        "id": "signal-marks"
      },
      "outputs": [],
      "source": [
        "!python -m spacy convert restauranttrain_updated_train.bio . -c ner"
      ]
    },
    {
      "cell_type": "code",
      "execution_count": null,
      "id": "medieval-domain",
      "metadata": {
        "execution": {
          "iopub.execute_input": "2021-06-27T07:48:22.759663Z",
          "iopub.status.busy": "2021-06-27T07:48:22.758639Z",
          "iopub.status.idle": "2021-06-27T07:48:30.205832Z",
          "shell.execute_reply": "2021-06-27T07:48:30.206654Z",
          "shell.execute_reply.started": "2021-06-27T07:38:35.378725Z"
        },
        "papermill": {
          "duration": 7.600102,
          "end_time": "2021-06-27T07:48:30.206838",
          "exception": false,
          "start_time": "2021-06-27T07:48:22.606736",
          "status": "completed"
        },
        "tags": [],
        "id": "medieval-domain"
      },
      "outputs": [],
      "source": [
        "!python -m spacy convert restauranttrain_updated_valid.bio . -c ner"
      ]
    },
    {
      "cell_type": "code",
      "execution_count": null,
      "id": "accredited-header",
      "metadata": {
        "execution": {
          "iopub.execute_input": "2021-06-27T07:48:30.500687Z",
          "iopub.status.busy": "2021-06-27T07:48:30.500040Z",
          "iopub.status.idle": "2021-06-27T07:58:29.969727Z",
          "shell.execute_reply": "2021-06-27T07:58:29.968526Z"
        },
        "papermill": {
          "duration": 599.616861,
          "end_time": "2021-06-27T07:58:29.969897",
          "exception": false,
          "start_time": "2021-06-27T07:48:30.353036",
          "status": "completed"
        },
        "tags": [],
        "id": "accredited-header"
      },
      "outputs": [],
      "source": [
        "!python -m spacy train config.cfg --output ./output --paths.train restauranttrain_updated_train.spacy --paths.dev restauranttrain_updated_valid.spacy"
      ]
    },
    {
      "cell_type": "code",
      "execution_count": null,
      "id": "laden-technology",
      "metadata": {
        "execution": {
          "iopub.execute_input": "2021-06-27T07:58:30.295044Z",
          "iopub.status.busy": "2021-06-27T07:58:30.294077Z",
          "iopub.status.idle": "2021-06-27T07:58:39.781609Z",
          "shell.execute_reply": "2021-06-27T07:58:39.781007Z"
        },
        "papermill": {
          "duration": 9.655463,
          "end_time": "2021-06-27T07:58:39.781756",
          "exception": false,
          "start_time": "2021-06-27T07:58:30.126293",
          "status": "completed"
        },
        "tags": [],
        "id": "laden-technology"
      },
      "outputs": [],
      "source": [
        "!python -m spacy evaluate output/model-last restauranttrain_updated_valid.spacy"
      ]
    },
    {
      "cell_type": "code",
      "execution_count": null,
      "id": "protecting-secret",
      "metadata": {
        "execution": {
          "iopub.execute_input": "2021-06-27T07:58:40.098378Z",
          "iopub.status.busy": "2021-06-27T07:58:40.097340Z",
          "iopub.status.idle": "2021-06-27T07:58:40.799169Z",
          "shell.execute_reply": "2021-06-27T07:58:40.798220Z"
        },
        "papermill": {
          "duration": 0.860938,
          "end_time": "2021-06-27T07:58:40.799322",
          "exception": false,
          "start_time": "2021-06-27T07:58:39.938384",
          "status": "completed"
        },
        "tags": [],
        "id": "protecting-secret"
      },
      "outputs": [],
      "source": [
        "nlp = spacy.load(\"output/model-best\")\n",
        "for i in range(10, 20):\n",
        "    doc = nlp(' '.join(data[i]))\n",
        "    spacy.displacy.render(doc, style=\"ent\", jupyter=True)"
      ]
    }
  ],
  "metadata": {
    "kernelspec": {
      "display_name": "Python 3",
      "language": "python",
      "name": "python3"
    },
    "language_info": {
      "codemirror_mode": {
        "name": "ipython",
        "version": 3
      },
      "file_extension": ".py",
      "mimetype": "text/x-python",
      "name": "python",
      "nbconvert_exporter": "python",
      "pygments_lexer": "ipython3",
      "version": "3.7.10"
    },
    "papermill": {
      "default_parameters": {},
      "duration": 1049.617112,
      "end_time": "2021-06-27T08:03:30.168411",
      "environment_variables": {},
      "exception": null,
      "input_path": "__notebook__.ipynb",
      "output_path": "__notebook__.ipynb",
      "parameters": {},
      "start_time": "2021-06-27T07:46:00.551299",
      "version": "2.3.3"
    },
    "colab": {
      "name": "NER using Restaurant file",
      "provenance": [],
      "collapsed_sections": []
    }
  },
  "nbformat": 4,
  "nbformat_minor": 5
}