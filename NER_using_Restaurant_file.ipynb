{
  "cells": [
    {
      "cell_type": "code",
      "execution_count": 1,
      "id": "stable-entrepreneur",
      "metadata": {
        "_kg_hide-output": true,
        "execution": {
          "iopub.execute_input": "2021-06-27T07:46:09.474837Z",
          "iopub.status.busy": "2021-06-27T07:46:09.460974Z",
          "iopub.status.idle": "2021-06-27T07:47:13.225256Z",
          "shell.execute_reply": "2021-06-27T07:47:13.224512Z",
          "shell.execute_reply.started": "2021-06-27T07:36:24.375864Z"
        },
        "papermill": {
          "duration": 63.845989,
          "end_time": "2021-06-27T07:47:13.225462",
          "exception": false,
          "start_time": "2021-06-27T07:46:09.379473",
          "status": "completed"
        },
        "tags": [],
        "id": "stable-entrepreneur",
        "colab": {
          "base_uri": "https://localhost:8080/"
        },
        "outputId": "005260d9-9177-4268-8641-5e5d91f4efde"
      },
      "outputs": [
        {
          "output_type": "stream",
          "name": "stdout",
          "text": [
            "Collecting spacy==3.0.0\n",
            "  Downloading spacy-3.0.0-cp37-cp37m-manylinux2014_x86_64.whl (12.7 MB)\n",
            "\u001b[K     |████████████████████████████████| 12.7 MB 5.4 MB/s \n",
            "\u001b[?25hRequirement already satisfied: blis<0.8.0,>=0.4.0 in /usr/local/lib/python3.7/dist-packages (from spacy==3.0.0) (0.4.1)\n",
            "Requirement already satisfied: wasabi<1.1.0,>=0.8.1 in /usr/local/lib/python3.7/dist-packages (from spacy==3.0.0) (0.9.0)\n",
            "Collecting typer<0.4.0,>=0.3.0\n",
            "  Downloading typer-0.3.2-py3-none-any.whl (21 kB)\n",
            "Collecting catalogue<2.1.0,>=2.0.1\n",
            "  Downloading catalogue-2.0.6-py3-none-any.whl (17 kB)\n",
            "Requirement already satisfied: tqdm<5.0.0,>=4.38.0 in /usr/local/lib/python3.7/dist-packages (from spacy==3.0.0) (4.62.3)\n",
            "Collecting thinc<8.1.0,>=8.0.0\n",
            "  Downloading thinc-8.0.13-cp37-cp37m-manylinux_2_17_x86_64.manylinux2014_x86_64.whl (628 kB)\n",
            "\u001b[K     |████████████████████████████████| 628 kB 53.6 MB/s \n",
            "\u001b[?25hRequirement already satisfied: requests<3.0.0,>=2.13.0 in /usr/local/lib/python3.7/dist-packages (from spacy==3.0.0) (2.23.0)\n",
            "Requirement already satisfied: jinja2 in /usr/local/lib/python3.7/dist-packages (from spacy==3.0.0) (2.11.3)\n",
            "Collecting spacy-legacy<3.1.0,>=3.0.0\n",
            "  Downloading spacy_legacy-3.0.8-py2.py3-none-any.whl (14 kB)\n",
            "Collecting pathy\n",
            "  Downloading pathy-0.6.1-py3-none-any.whl (42 kB)\n",
            "\u001b[K     |████████████████████████████████| 42 kB 1.5 MB/s \n",
            "\u001b[?25hRequirement already satisfied: packaging>=20.0 in /usr/local/lib/python3.7/dist-packages (from spacy==3.0.0) (21.3)\n",
            "Requirement already satisfied: preshed<3.1.0,>=3.0.2 in /usr/local/lib/python3.7/dist-packages (from spacy==3.0.0) (3.0.6)\n",
            "Collecting pydantic<1.8.0,>=1.7.1\n",
            "  Downloading pydantic-1.7.4-cp37-cp37m-manylinux2014_x86_64.whl (9.1 MB)\n",
            "\u001b[K     |████████████████████████████████| 9.1 MB 26.1 MB/s \n",
            "\u001b[?25hRequirement already satisfied: importlib-metadata>=0.20 in /usr/local/lib/python3.7/dist-packages (from spacy==3.0.0) (4.11.0)\n",
            "Collecting srsly<3.0.0,>=2.4.0\n",
            "  Downloading srsly-2.4.2-cp37-cp37m-manylinux_2_17_x86_64.manylinux2014_x86_64.whl (451 kB)\n",
            "\u001b[K     |████████████████████████████████| 451 kB 66.1 MB/s \n",
            "\u001b[?25hRequirement already satisfied: setuptools in /usr/local/lib/python3.7/dist-packages (from spacy==3.0.0) (57.4.0)\n",
            "Requirement already satisfied: numpy>=1.15.0 in /usr/local/lib/python3.7/dist-packages (from spacy==3.0.0) (1.21.5)\n",
            "Requirement already satisfied: cymem<2.1.0,>=2.0.2 in /usr/local/lib/python3.7/dist-packages (from spacy==3.0.0) (2.0.6)\n",
            "Requirement already satisfied: typing-extensions>=3.7.4 in /usr/local/lib/python3.7/dist-packages (from spacy==3.0.0) (3.10.0.2)\n",
            "Requirement already satisfied: murmurhash<1.1.0,>=0.28.0 in /usr/local/lib/python3.7/dist-packages (from spacy==3.0.0) (1.0.6)\n",
            "Requirement already satisfied: zipp>=0.5 in /usr/local/lib/python3.7/dist-packages (from catalogue<2.1.0,>=2.0.1->spacy==3.0.0) (3.7.0)\n",
            "Requirement already satisfied: pyparsing!=3.0.5,>=2.0.2 in /usr/local/lib/python3.7/dist-packages (from packaging>=20.0->spacy==3.0.0) (3.0.7)\n",
            "Requirement already satisfied: idna<3,>=2.5 in /usr/local/lib/python3.7/dist-packages (from requests<3.0.0,>=2.13.0->spacy==3.0.0) (2.10)\n",
            "Requirement already satisfied: urllib3!=1.25.0,!=1.25.1,<1.26,>=1.21.1 in /usr/local/lib/python3.7/dist-packages (from requests<3.0.0,>=2.13.0->spacy==3.0.0) (1.24.3)\n",
            "Requirement already satisfied: chardet<4,>=3.0.2 in /usr/local/lib/python3.7/dist-packages (from requests<3.0.0,>=2.13.0->spacy==3.0.0) (3.0.4)\n",
            "Requirement already satisfied: certifi>=2017.4.17 in /usr/local/lib/python3.7/dist-packages (from requests<3.0.0,>=2.13.0->spacy==3.0.0) (2021.10.8)\n",
            "Requirement already satisfied: click<7.2.0,>=7.1.1 in /usr/local/lib/python3.7/dist-packages (from typer<0.4.0,>=0.3.0->spacy==3.0.0) (7.1.2)\n",
            "Requirement already satisfied: MarkupSafe>=0.23 in /usr/local/lib/python3.7/dist-packages (from jinja2->spacy==3.0.0) (2.0.1)\n",
            "Requirement already satisfied: smart-open<6.0.0,>=5.0.0 in /usr/local/lib/python3.7/dist-packages (from pathy->spacy==3.0.0) (5.2.1)\n",
            "Installing collected packages: catalogue, typer, srsly, pydantic, thinc, spacy-legacy, pathy, spacy\n",
            "  Attempting uninstall: catalogue\n",
            "    Found existing installation: catalogue 1.0.0\n",
            "    Uninstalling catalogue-1.0.0:\n",
            "      Successfully uninstalled catalogue-1.0.0\n",
            "  Attempting uninstall: srsly\n",
            "    Found existing installation: srsly 1.0.5\n",
            "    Uninstalling srsly-1.0.5:\n",
            "      Successfully uninstalled srsly-1.0.5\n",
            "  Attempting uninstall: thinc\n",
            "    Found existing installation: thinc 7.4.0\n",
            "    Uninstalling thinc-7.4.0:\n",
            "      Successfully uninstalled thinc-7.4.0\n",
            "  Attempting uninstall: spacy\n",
            "    Found existing installation: spacy 2.2.4\n",
            "    Uninstalling spacy-2.2.4:\n",
            "      Successfully uninstalled spacy-2.2.4\n",
            "Successfully installed catalogue-2.0.6 pathy-0.6.1 pydantic-1.7.4 spacy-3.0.0 spacy-legacy-3.0.8 srsly-2.4.2 thinc-8.0.13 typer-0.3.2\n",
            "Collecting sklearn_crfsuite\n",
            "  Downloading sklearn_crfsuite-0.3.6-py2.py3-none-any.whl (12 kB)\n",
            "Requirement already satisfied: tqdm>=2.0 in /usr/local/lib/python3.7/dist-packages (from sklearn_crfsuite) (4.62.3)\n",
            "Requirement already satisfied: tabulate in /usr/local/lib/python3.7/dist-packages (from sklearn_crfsuite) (0.8.9)\n",
            "Requirement already satisfied: six in /usr/local/lib/python3.7/dist-packages (from sklearn_crfsuite) (1.15.0)\n",
            "Collecting python-crfsuite>=0.8.3\n",
            "  Downloading python_crfsuite-0.9.7-cp37-cp37m-manylinux1_x86_64.whl (743 kB)\n",
            "\u001b[K     |████████████████████████████████| 743 kB 5.0 MB/s \n",
            "\u001b[?25hInstalling collected packages: python-crfsuite, sklearn-crfsuite\n",
            "Successfully installed python-crfsuite-0.9.7 sklearn-crfsuite-0.3.6\n",
            "Collecting scikit-learn==0.23.2\n",
            "  Downloading scikit_learn-0.23.2-cp37-cp37m-manylinux1_x86_64.whl (6.8 MB)\n",
            "\u001b[K     |████████████████████████████████| 6.8 MB 5.3 MB/s \n",
            "\u001b[?25hRequirement already satisfied: scipy>=0.19.1 in /usr/local/lib/python3.7/dist-packages (from scikit-learn==0.23.2) (1.4.1)\n",
            "Requirement already satisfied: threadpoolctl>=2.0.0 in /usr/local/lib/python3.7/dist-packages (from scikit-learn==0.23.2) (3.1.0)\n",
            "Requirement already satisfied: numpy>=1.13.3 in /usr/local/lib/python3.7/dist-packages (from scikit-learn==0.23.2) (1.21.5)\n",
            "Requirement already satisfied: joblib>=0.11 in /usr/local/lib/python3.7/dist-packages (from scikit-learn==0.23.2) (1.1.0)\n",
            "Installing collected packages: scikit-learn\n",
            "  Attempting uninstall: scikit-learn\n",
            "    Found existing installation: scikit-learn 1.0.2\n",
            "    Uninstalling scikit-learn-1.0.2:\n",
            "      Successfully uninstalled scikit-learn-1.0.2\n",
            "\u001b[31mERROR: pip's dependency resolver does not currently take into account all the packages that are installed. This behaviour is the source of the following dependency conflicts.\n",
            "imbalanced-learn 0.8.1 requires scikit-learn>=0.24, but you have scikit-learn 0.23.2 which is incompatible.\u001b[0m\n",
            "Successfully installed scikit-learn-0.23.2\n",
            "Collecting pytorch-crf\n",
            "  Downloading pytorch_crf-0.7.2-py3-none-any.whl (9.5 kB)\n",
            "Installing collected packages: pytorch-crf\n",
            "Successfully installed pytorch-crf-0.7.2\n"
          ]
        }
      ],
      "source": [
        "!pip install spacy==3.0.0\n",
        "!pip install sklearn_crfsuite\n",
        "!pip install scikit-learn==0.23.2\n",
        "!pip install pytorch-crf"
      ]
    },
    {
      "cell_type": "code",
      "source": [
        "! wget https://groups.csail.mit.edu/sls/downloads/restaurant/restauranttrain.bio"
      ],
      "metadata": {
        "id": "KVQh_OX0PKY8",
        "colab": {
          "base_uri": "https://localhost:8080/"
        },
        "outputId": "a8531de4-df59-4552-ea9c-5ae0d6b05a39"
      },
      "id": "KVQh_OX0PKY8",
      "execution_count": 2,
      "outputs": [
        {
          "output_type": "stream",
          "name": "stdout",
          "text": [
            "--2022-02-22 08:49:19--  https://groups.csail.mit.edu/sls/downloads/restaurant/restauranttrain.bio\n",
            "Resolving groups.csail.mit.edu (groups.csail.mit.edu)... 128.30.2.44\n",
            "Connecting to groups.csail.mit.edu (groups.csail.mit.edu)|128.30.2.44|:443... connected.\n",
            "HTTP request sent, awaiting response... 200 OK\n",
            "Length: 759757 (742K)\n",
            "Saving to: ‘restauranttrain.bio’\n",
            "\n",
            "restauranttrain.bio 100%[===================>] 741.95K  --.-KB/s    in 0.1s    \n",
            "\n",
            "2022-02-22 08:49:19 (6.35 MB/s) - ‘restauranttrain.bio’ saved [759757/759757]\n",
            "\n"
          ]
        }
      ]
    },
    {
      "cell_type": "code",
      "execution_count": 3,
      "id": "loaded-suggestion",
      "metadata": {
        "_kg_hide-input": true,
        "execution": {
          "iopub.execute_input": "2021-06-27T07:47:13.473138Z",
          "iopub.status.busy": "2021-06-27T07:47:13.471927Z",
          "iopub.status.idle": "2021-06-27T07:47:24.517869Z",
          "shell.execute_reply": "2021-06-27T07:47:24.516685Z",
          "shell.execute_reply.started": "2021-06-27T07:37:28.917896Z"
        },
        "papermill": {
          "duration": 11.171511,
          "end_time": "2021-06-27T07:47:24.518063",
          "exception": false,
          "start_time": "2021-06-27T07:47:13.346552",
          "status": "completed"
        },
        "tags": [],
        "id": "loaded-suggestion"
      },
      "outputs": [],
      "source": [
        "# import main libraries\n",
        "from IPython.display import Image\n",
        "from IPython.core.display import display, HTML\n",
        "import pandas as pd\n",
        "from collections import Counter\n",
        "import random\n",
        "from spacy import displacy\n",
        "import json\n",
        "import os\n",
        "from spacy.training import offsets_to_biluo_tags\n",
        "import spacy\n",
        "from sklearn.model_selection import train_test_split\n",
        "import pandas as pd\n",
        "import numpy as np\n",
        "import sklearn\n",
        "import sklearn_crfsuite\n",
        "from sklearn_crfsuite import scorers\n",
        "from sklearn_crfsuite import metrics\n",
        "from sklearn.metrics import f1_score"
      ]
    },
    {
      "cell_type": "code",
      "execution_count": null,
      "id": "indian-contributor",
      "metadata": {
        "execution": {
          "iopub.execute_input": "2021-06-27T07:47:25.011582Z",
          "iopub.status.busy": "2021-06-27T07:47:25.010901Z",
          "iopub.status.idle": "2021-06-27T07:47:25.051680Z",
          "shell.execute_reply": "2021-06-27T07:47:25.050766Z",
          "shell.execute_reply.started": "2021-06-27T07:37:41.012820Z"
        },
        "papermill": {
          "duration": 0.165897,
          "end_time": "2021-06-27T07:47:25.051865",
          "exception": false,
          "start_time": "2021-06-27T07:47:24.885968",
          "status": "completed"
        },
        "scrolled": true,
        "tags": [],
        "id": "indian-contributor"
      },
      "outputs": [],
      "source": [
        "with open('restauranttrain.bio', 'r') as f:\n",
        "    for line in f.readlines()[:30]:\n",
        "        print(line)"
      ]
    },
    {
      "cell_type": "code",
      "execution_count": 7,
      "id": "pediatric-engine",
      "metadata": {
        "execution": {
          "iopub.execute_input": "2021-06-27T07:47:25.546534Z",
          "iopub.status.busy": "2021-06-27T07:47:25.545462Z",
          "iopub.status.idle": "2021-06-27T07:47:25.635179Z",
          "shell.execute_reply": "2021-06-27T07:47:25.634466Z",
          "shell.execute_reply.started": "2021-06-27T07:37:41.059564Z"
        },
        "papermill": {
          "duration": 0.217467,
          "end_time": "2021-06-27T07:47:25.635330",
          "exception": false,
          "start_time": "2021-06-27T07:47:25.417863",
          "status": "completed"
        },
        "tags": [],
        "id": "pediatric-engine"
      },
      "outputs": [],
      "source": [
        "# reformatting the data\n",
        "with open('restauranttrain.bio', 'r') as f:\n",
        "    with open('restauranttrain_updated.bio', 'w') as w:\n",
        "        for line in f.readlines():\n",
        "            if line == '\\n':\n",
        "                w.write(line)\n",
        "            else:\n",
        "                w.write('\\t'.join(line.strip().split('\\t')[::-1]) + '\\n')"
      ]
    },
    {
      "cell_type": "code",
      "execution_count": 20,
      "id": "hindu-payday",
      "metadata": {
        "execution": {
          "iopub.execute_input": "2021-06-27T07:47:26.234767Z",
          "iopub.status.busy": "2021-06-27T07:47:26.233692Z",
          "iopub.status.idle": "2021-06-27T07:47:26.540059Z",
          "shell.execute_reply": "2021-06-27T07:47:26.540595Z",
          "shell.execute_reply.started": "2021-06-27T07:37:41.273410Z"
        },
        "papermill": {
          "duration": 0.434618,
          "end_time": "2021-06-27T07:47:26.540772",
          "exception": false,
          "start_time": "2021-06-27T07:47:26.106154",
          "status": "completed"
        },
        "tags": [],
        "id": "hindu-payday"
      },
      "outputs": [],
      "source": [
        "data = []\n",
        "labels = []\n",
        "with open('restauranttrain_updated.bio', 'r') as f:\n",
        "    cur_data = []\n",
        "    cur_label = []\n",
        "    for line in f.readlines():\n",
        "        if line == '\\n':\n",
        "            data.append(cur_data)\n",
        "            labels.append(cur_label)\n",
        "            cur_data = []\n",
        "            cur_label = []\n",
        "        else:\n",
        "            cur_data.append(line.strip().split('\\t')[0])\n",
        "            cur_label.append(line.strip().split('\\t')[1])"
      ]
    },
    {
      "cell_type": "code",
      "execution_count": 21,
      "id": "brown-sherman",
      "metadata": {
        "execution": {
          "iopub.execute_input": "2021-06-27T07:47:27.051603Z",
          "iopub.status.busy": "2021-06-27T07:47:27.050603Z",
          "iopub.status.idle": "2021-06-27T07:47:27.059212Z",
          "shell.execute_reply": "2021-06-27T07:47:27.059718Z",
          "shell.execute_reply.started": "2021-06-27T07:37:41.632508Z"
        },
        "papermill": {
          "duration": 0.132994,
          "end_time": "2021-06-27T07:47:27.059914",
          "exception": false,
          "start_time": "2021-06-27T07:47:26.926920",
          "status": "completed"
        },
        "scrolled": true,
        "tags": [],
        "id": "brown-sherman",
        "colab": {
          "base_uri": "https://localhost:8080/"
        },
        "outputId": "435a8f65-2354-4965-e4f5-ddc393a10ccc"
      },
      "outputs": [
        {
          "output_type": "stream",
          "name": "stdout",
          "text": [
            "2\tB-Rating\n",
            "start\tI-Rating\n",
            "restaurants\tO\n",
            "with\tO\n",
            "inside\tB-Amenity\n",
            "dining\tI-Amenity\n"
          ]
        }
      ],
      "source": [
        "for w, e in zip(data[0], labels[0]):\n",
        "    print(f'{w}\\t{e}')"
      ]
    },
    {
      "cell_type": "code",
      "execution_count": 22,
      "id": "digital-sudan",
      "metadata": {
        "execution": {
          "iopub.execute_input": "2021-06-27T07:47:28.302934Z",
          "iopub.status.busy": "2021-06-27T07:47:28.302243Z",
          "iopub.status.idle": "2021-06-27T07:47:28.393214Z",
          "shell.execute_reply": "2021-06-27T07:47:28.392626Z",
          "shell.execute_reply.started": "2021-06-27T07:37:41.674914Z"
        },
        "papermill": {
          "duration": 0.214404,
          "end_time": "2021-06-27T07:47:28.393359",
          "exception": false,
          "start_time": "2021-06-27T07:47:28.178955",
          "status": "completed"
        },
        "tags": [],
        "id": "digital-sudan",
        "colab": {
          "base_uri": "https://localhost:8080/",
          "height": 363
        },
        "outputId": "0d0bbdd2-6c1a-4e40-d212-c783011ed7d1"
      },
      "outputs": [
        {
          "output_type": "execute_result",
          "data": {
            "text/html": [
              "\n",
              "  <div id=\"df-b4cd3b42-58cf-4e31-8369-3cdb87288d1a\">\n",
              "    <div class=\"colab-df-container\">\n",
              "      <div>\n",
              "<style scoped>\n",
              "    .dataframe tbody tr th:only-of-type {\n",
              "        vertical-align: middle;\n",
              "    }\n",
              "\n",
              "    .dataframe tbody tr th {\n",
              "        vertical-align: top;\n",
              "    }\n",
              "\n",
              "    .dataframe thead th {\n",
              "        text-align: right;\n",
              "    }\n",
              "</style>\n",
              "<table border=\"1\" class=\"dataframe\">\n",
              "  <thead>\n",
              "    <tr style=\"text-align: right;\">\n",
              "      <th></th>\n",
              "      <th>sent_id</th>\n",
              "      <th>data</th>\n",
              "      <th>entities</th>\n",
              "    </tr>\n",
              "  </thead>\n",
              "  <tbody>\n",
              "    <tr>\n",
              "      <th>0</th>\n",
              "      <td>0</td>\n",
              "      <td>2</td>\n",
              "      <td>B-Rating</td>\n",
              "    </tr>\n",
              "    <tr>\n",
              "      <th>1</th>\n",
              "      <td>0</td>\n",
              "      <td>start</td>\n",
              "      <td>I-Rating</td>\n",
              "    </tr>\n",
              "    <tr>\n",
              "      <th>2</th>\n",
              "      <td>0</td>\n",
              "      <td>restaurants</td>\n",
              "      <td>O</td>\n",
              "    </tr>\n",
              "    <tr>\n",
              "      <th>3</th>\n",
              "      <td>0</td>\n",
              "      <td>with</td>\n",
              "      <td>O</td>\n",
              "    </tr>\n",
              "    <tr>\n",
              "      <th>4</th>\n",
              "      <td>0</td>\n",
              "      <td>inside</td>\n",
              "      <td>B-Amenity</td>\n",
              "    </tr>\n",
              "    <tr>\n",
              "      <th>5</th>\n",
              "      <td>0</td>\n",
              "      <td>dining</td>\n",
              "      <td>I-Amenity</td>\n",
              "    </tr>\n",
              "    <tr>\n",
              "      <th>6</th>\n",
              "      <td>1</td>\n",
              "      <td>34</td>\n",
              "      <td>O</td>\n",
              "    </tr>\n",
              "    <tr>\n",
              "      <th>7</th>\n",
              "      <td>2</td>\n",
              "      <td>5</td>\n",
              "      <td>B-Rating</td>\n",
              "    </tr>\n",
              "    <tr>\n",
              "      <th>8</th>\n",
              "      <td>2</td>\n",
              "      <td>star</td>\n",
              "      <td>I-Rating</td>\n",
              "    </tr>\n",
              "    <tr>\n",
              "      <th>9</th>\n",
              "      <td>2</td>\n",
              "      <td>resturants</td>\n",
              "      <td>O</td>\n",
              "    </tr>\n",
              "  </tbody>\n",
              "</table>\n",
              "</div>\n",
              "      <button class=\"colab-df-convert\" onclick=\"convertToInteractive('df-b4cd3b42-58cf-4e31-8369-3cdb87288d1a')\"\n",
              "              title=\"Convert this dataframe to an interactive table.\"\n",
              "              style=\"display:none;\">\n",
              "        \n",
              "  <svg xmlns=\"http://www.w3.org/2000/svg\" height=\"24px\"viewBox=\"0 0 24 24\"\n",
              "       width=\"24px\">\n",
              "    <path d=\"M0 0h24v24H0V0z\" fill=\"none\"/>\n",
              "    <path d=\"M18.56 5.44l.94 2.06.94-2.06 2.06-.94-2.06-.94-.94-2.06-.94 2.06-2.06.94zm-11 1L8.5 8.5l.94-2.06 2.06-.94-2.06-.94L8.5 2.5l-.94 2.06-2.06.94zm10 10l.94 2.06.94-2.06 2.06-.94-2.06-.94-.94-2.06-.94 2.06-2.06.94z\"/><path d=\"M17.41 7.96l-1.37-1.37c-.4-.4-.92-.59-1.43-.59-.52 0-1.04.2-1.43.59L10.3 9.45l-7.72 7.72c-.78.78-.78 2.05 0 2.83L4 21.41c.39.39.9.59 1.41.59.51 0 1.02-.2 1.41-.59l7.78-7.78 2.81-2.81c.8-.78.8-2.07 0-2.86zM5.41 20L4 18.59l7.72-7.72 1.47 1.35L5.41 20z\"/>\n",
              "  </svg>\n",
              "      </button>\n",
              "      \n",
              "  <style>\n",
              "    .colab-df-container {\n",
              "      display:flex;\n",
              "      flex-wrap:wrap;\n",
              "      gap: 12px;\n",
              "    }\n",
              "\n",
              "    .colab-df-convert {\n",
              "      background-color: #E8F0FE;\n",
              "      border: none;\n",
              "      border-radius: 50%;\n",
              "      cursor: pointer;\n",
              "      display: none;\n",
              "      fill: #1967D2;\n",
              "      height: 32px;\n",
              "      padding: 0 0 0 0;\n",
              "      width: 32px;\n",
              "    }\n",
              "\n",
              "    .colab-df-convert:hover {\n",
              "      background-color: #E2EBFA;\n",
              "      box-shadow: 0px 1px 2px rgba(60, 64, 67, 0.3), 0px 1px 3px 1px rgba(60, 64, 67, 0.15);\n",
              "      fill: #174EA6;\n",
              "    }\n",
              "\n",
              "    [theme=dark] .colab-df-convert {\n",
              "      background-color: #3B4455;\n",
              "      fill: #D2E3FC;\n",
              "    }\n",
              "\n",
              "    [theme=dark] .colab-df-convert:hover {\n",
              "      background-color: #434B5C;\n",
              "      box-shadow: 0px 1px 3px 1px rgba(0, 0, 0, 0.15);\n",
              "      filter: drop-shadow(0px 1px 2px rgba(0, 0, 0, 0.3));\n",
              "      fill: #FFFFFF;\n",
              "    }\n",
              "  </style>\n",
              "\n",
              "      <script>\n",
              "        const buttonEl =\n",
              "          document.querySelector('#df-b4cd3b42-58cf-4e31-8369-3cdb87288d1a button.colab-df-convert');\n",
              "        buttonEl.style.display =\n",
              "          google.colab.kernel.accessAllowed ? 'block' : 'none';\n",
              "\n",
              "        async function convertToInteractive(key) {\n",
              "          const element = document.querySelector('#df-b4cd3b42-58cf-4e31-8369-3cdb87288d1a');\n",
              "          const dataTable =\n",
              "            await google.colab.kernel.invokeFunction('convertToInteractive',\n",
              "                                                     [key], {});\n",
              "          if (!dataTable) return;\n",
              "\n",
              "          const docLinkHtml = 'Like what you see? Visit the ' +\n",
              "            '<a target=\"_blank\" href=https://colab.research.google.com/notebooks/data_table.ipynb>data table notebook</a>'\n",
              "            + ' to learn more about interactive tables.';\n",
              "          element.innerHTML = '';\n",
              "          dataTable['output_type'] = 'display_data';\n",
              "          await google.colab.output.renderOutput(dataTable, element);\n",
              "          const docLink = document.createElement('div');\n",
              "          docLink.innerHTML = docLinkHtml;\n",
              "          element.appendChild(docLink);\n",
              "        }\n",
              "      </script>\n",
              "    </div>\n",
              "  </div>\n",
              "  "
            ],
            "text/plain": [
              "   sent_id         data   entities\n",
              "0        0            2   B-Rating\n",
              "1        0        start   I-Rating\n",
              "2        0  restaurants          O\n",
              "3        0         with          O\n",
              "4        0       inside  B-Amenity\n",
              "5        0       dining  I-Amenity\n",
              "6        1           34          O\n",
              "7        2            5   B-Rating\n",
              "8        2         star   I-Rating\n",
              "9        2   resturants          O"
            ]
          },
          "metadata": {},
          "execution_count": 22
        }
      ],
      "source": [
        "df = pd.DataFrame({'sent_id': [i for j in [[i] * len(s) for i, s in enumerate(data)] for i in j],\n",
        "                   'data': [i for j in data for i in j],\n",
        "                   'entities': [i for j in labels for i in j]})\n",
        "df.head(10)"
      ]
    },
    {
      "cell_type": "code",
      "execution_count": 23,
      "id": "forbidden-heating",
      "metadata": {
        "execution": {
          "iopub.execute_input": "2021-06-27T07:47:28.651998Z",
          "iopub.status.busy": "2021-06-27T07:47:28.650929Z",
          "iopub.status.idle": "2021-06-27T07:47:29.322108Z",
          "shell.execute_reply": "2021-06-27T07:47:29.321358Z",
          "shell.execute_reply.started": "2021-06-27T07:37:41.779854Z"
        },
        "papermill": {
          "duration": 0.807133,
          "end_time": "2021-06-27T07:47:29.322264",
          "exception": false,
          "start_time": "2021-06-27T07:47:28.515131",
          "status": "completed"
        },
        "tags": [],
        "id": "forbidden-heating"
      },
      "outputs": [],
      "source": [
        "class SentenceGetter(object):\n",
        "    \n",
        "    def __init__(self, data):\n",
        "        self.n_sent = 1\n",
        "        self.data = data\n",
        "        self.empty = False\n",
        "        agg_func = lambda s: [(w, t) for w, t in zip(s['data'].values.tolist(), \n",
        "                                                           s['entities'].values.tolist())]\n",
        "        self.grouped = self.data.groupby('sent_id').apply(agg_func)\n",
        "        self.sentences = [s for s in self.grouped]\n",
        "        \n",
        "    def get_next(self):\n",
        "        try: \n",
        "            s = self.grouped['Sentence: {}'.format(self.n_sent)]\n",
        "            self.n_sent += 1\n",
        "            return s \n",
        "        except:\n",
        "            return None\n",
        "\n",
        "getter = SentenceGetter(df)\n",
        "sentences = getter.sentences"
      ]
    },
    {
      "cell_type": "code",
      "execution_count": 24,
      "id": "fatal-charm",
      "metadata": {
        "execution": {
          "iopub.execute_input": "2021-06-27T07:47:29.581167Z",
          "iopub.status.busy": "2021-06-27T07:47:29.580234Z",
          "iopub.status.idle": "2021-06-27T07:47:29.584101Z",
          "shell.execute_reply": "2021-06-27T07:47:29.583349Z",
          "shell.execute_reply.started": "2021-06-27T07:37:42.482535Z"
        },
        "papermill": {
          "duration": 0.138942,
          "end_time": "2021-06-27T07:47:29.584274",
          "exception": false,
          "start_time": "2021-06-27T07:47:29.445332",
          "status": "completed"
        },
        "tags": [],
        "id": "fatal-charm"
      },
      "outputs": [],
      "source": [
        "def word2features(sent, i):\n",
        "    word = sent[i][0]\n",
        "    postag = sent[i][1]\n",
        "    \n",
        "    features = {\n",
        "        'bias': 1.0, \n",
        "        'word.lower()': word.lower(), \n",
        "        'word[-3:]': word[-3:],\n",
        "        'word[-2:]': word[-2:],\n",
        "        'word.isupper()': word.isupper(),\n",
        "        'word.istitle()': word.istitle(),\n",
        "        'word.isdigit()': word.isdigit()\n",
        "    }\n",
        "    if i > 0:\n",
        "        word1 = sent[i-1][0]\n",
        "        features.update({\n",
        "            '-1:word.lower()': word1.lower(),\n",
        "            '-1:word.istitle()': word1.istitle(),\n",
        "            '-1:word.isupper()': word1.isupper()\n",
        "        })\n",
        "    else:\n",
        "        features['BOS'] = True\n",
        "    if i < len(sent)-1:\n",
        "        word1 = sent[i+1][0]\n",
        "        features.update({\n",
        "            '+1:word.lower()': word1.lower(),\n",
        "            '+1:word.istitle()': word1.istitle(),\n",
        "            '+1:word.isupper()': word1.isupper()\n",
        "        })\n",
        "    else:\n",
        "        features['EOS'] = True\n",
        "\n",
        "    return features\n",
        "\n",
        "def sent2features(sent):\n",
        "    return [word2features(sent, i) for i in range(len(sent))]\n",
        "\n",
        "def sent2labels(sent):\n",
        "    return [label for token, label in sent]\n",
        "\n",
        "def sent2tokens(sent):\n",
        "    return [token for token, label in sent]"
      ]
    },
    {
      "cell_type": "code",
      "execution_count": 25,
      "id": "informed-vintage",
      "metadata": {
        "execution": {
          "iopub.execute_input": "2021-06-27T07:47:29.854376Z",
          "iopub.status.busy": "2021-06-27T07:47:29.849118Z",
          "iopub.status.idle": "2021-06-27T07:47:30.121916Z",
          "shell.execute_reply": "2021-06-27T07:47:30.121377Z",
          "shell.execute_reply.started": "2021-06-27T07:37:42.499082Z"
        },
        "papermill": {
          "duration": 0.4116,
          "end_time": "2021-06-27T07:47:30.122105",
          "exception": false,
          "start_time": "2021-06-27T07:47:29.710505",
          "status": "completed"
        },
        "tags": [],
        "id": "informed-vintage"
      },
      "outputs": [],
      "source": [
        "X = [sent2features(s) for s in sentences]\n",
        "y = [sent2labels(s) for s in sentences]"
      ]
    },
    {
      "cell_type": "code",
      "execution_count": 26,
      "id": "transsexual-offense",
      "metadata": {
        "execution": {
          "iopub.execute_input": "2021-06-27T07:47:30.627896Z",
          "iopub.status.busy": "2021-06-27T07:47:30.626849Z",
          "iopub.status.idle": "2021-06-27T07:47:30.630479Z",
          "shell.execute_reply": "2021-06-27T07:47:30.629752Z",
          "shell.execute_reply.started": "2021-06-27T07:37:42.843305Z"
        },
        "papermill": {
          "duration": 0.131488,
          "end_time": "2021-06-27T07:47:30.630631",
          "exception": false,
          "start_time": "2021-06-27T07:47:30.499143",
          "status": "completed"
        },
        "tags": [],
        "id": "transsexual-offense"
      },
      "outputs": [],
      "source": [
        "X_train = X[:7000]\n",
        "X_test = X[7000:]\n",
        "y_train = y[:7000]\n",
        "y_test = y[7000:]"
      ]
    },
    {
      "cell_type": "code",
      "execution_count": 27,
      "id": "stainless-roulette",
      "metadata": {
        "_kg_hide-output": true,
        "execution": {
          "iopub.execute_input": "2021-06-27T07:47:30.880817Z",
          "iopub.status.busy": "2021-06-27T07:47:30.879714Z",
          "iopub.status.idle": "2021-06-27T07:47:44.002995Z",
          "shell.execute_reply": "2021-06-27T07:47:44.002361Z",
          "shell.execute_reply.started": "2021-06-27T07:37:42.855405Z"
        },
        "papermill": {
          "duration": 13.250885,
          "end_time": "2021-06-27T07:47:44.003144",
          "exception": false,
          "start_time": "2021-06-27T07:47:30.752259",
          "status": "completed"
        },
        "tags": [],
        "id": "stainless-roulette",
        "colab": {
          "base_uri": "https://localhost:8080/"
        },
        "outputId": "8a9012dd-2216-440e-cbc0-579919ae3ab0"
      },
      "outputs": [
        {
          "output_type": "stream",
          "name": "stderr",
          "text": [
            "loading training data to CRFsuite: 100%|██████████| 7000/7000 [00:00<00:00, 12345.89it/s]\n"
          ]
        },
        {
          "output_type": "stream",
          "name": "stdout",
          "text": [
            "\n",
            "Feature generation\n",
            "type: CRF1d\n",
            "feature.minfreq: 0.000000\n",
            "feature.possible_states: 0\n",
            "feature.possible_transitions: 1\n",
            "0....1....2....3....4....5....6....7....8....9....10\n",
            "Number of features: 25163\n",
            "Seconds required: 0.110\n",
            "\n",
            "L-BFGS optimization\n",
            "c1: 0.100000\n",
            "c2: 0.100000\n",
            "num_memories: 6\n",
            "max_iterations: 100\n",
            "epsilon: 0.000010\n",
            "stop: 10\n",
            "delta: 0.000010\n",
            "linesearch: MoreThuente\n",
            "linesearch.max_iterations: 20\n",
            "\n",
            "Iter 1   time=0.24  loss=137545.30 active=24772 feature_norm=1.00\n",
            "Iter 2   time=0.39  loss=114370.01 active=24415 feature_norm=3.03\n",
            "Iter 3   time=0.13  loss=99647.40 active=23572 feature_norm=2.33\n",
            "Iter 4   time=0.12  loss=97450.70 active=24563 feature_norm=2.44\n",
            "Iter 5   time=0.12  loss=83067.15 active=23868 feature_norm=11.17\n",
            "Iter 6   time=0.13  loss=57827.41 active=24641 feature_norm=10.31\n",
            "Iter 7   time=0.12  loss=55162.38 active=24682 feature_norm=10.96\n",
            "Iter 8   time=0.12  loss=46035.36 active=24556 feature_norm=15.19\n",
            "Iter 9   time=0.13  loss=39461.19 active=24562 feature_norm=17.96\n",
            "Iter 10  time=0.13  loss=35239.75 active=24730 feature_norm=21.36\n",
            "Iter 11  time=0.13  loss=31045.54 active=24633 feature_norm=25.32\n",
            "Iter 12  time=0.13  loss=28286.12 active=24227 feature_norm=30.92\n",
            "Iter 13  time=0.12  loss=26069.65 active=24414 feature_norm=32.41\n",
            "Iter 14  time=0.13  loss=24638.11 active=24364 feature_norm=34.76\n",
            "Iter 15  time=0.13  loss=22955.48 active=24053 feature_norm=40.55\n",
            "Iter 16  time=0.12  loss=21141.82 active=24166 feature_norm=42.93\n",
            "Iter 17  time=0.13  loss=20236.82 active=24199 feature_norm=44.81\n",
            "Iter 18  time=0.13  loss=18631.81 active=23932 feature_norm=49.41\n",
            "Iter 19  time=0.13  loss=17266.04 active=23716 feature_norm=54.85\n",
            "Iter 20  time=0.13  loss=16293.40 active=23575 feature_norm=60.39\n",
            "Iter 21  time=0.13  loss=15575.06 active=23737 feature_norm=61.97\n",
            "Iter 22  time=0.13  loss=15043.26 active=23639 feature_norm=64.70\n",
            "Iter 23  time=0.13  loss=14429.48 active=23394 feature_norm=67.78\n",
            "Iter 24  time=0.12  loss=13829.58 active=23142 feature_norm=71.32\n",
            "Iter 25  time=0.13  loss=13278.46 active=23077 feature_norm=75.07\n",
            "Iter 26  time=0.14  loss=12608.44 active=22911 feature_norm=80.10\n",
            "Iter 27  time=0.13  loss=12098.51 active=22687 feature_norm=84.70\n",
            "Iter 28  time=0.13  loss=11657.17 active=22702 feature_norm=89.20\n",
            "Iter 29  time=0.13  loss=11221.14 active=22546 feature_norm=94.10\n",
            "Iter 30  time=0.13  loss=10849.48 active=22350 feature_norm=99.56\n",
            "Iter 31  time=0.13  loss=10568.07 active=22299 feature_norm=104.36\n",
            "Iter 32  time=0.12  loss=10322.29 active=22223 feature_norm=108.51\n",
            "Iter 33  time=0.13  loss=10115.01 active=22161 feature_norm=112.68\n",
            "Iter 34  time=0.26  loss=10035.74 active=22019 feature_norm=115.30\n",
            "Iter 35  time=0.13  loss=9911.16  active=21965 feature_norm=117.98\n",
            "Iter 36  time=0.13  loss=9807.87  active=21860 feature_norm=120.54\n",
            "Iter 37  time=0.27  loss=9761.00  active=21600 feature_norm=122.58\n",
            "Iter 38  time=0.13  loss=9671.42  active=21582 feature_norm=124.01\n",
            "Iter 39  time=0.12  loss=9622.61  active=21519 feature_norm=125.26\n",
            "Iter 40  time=0.13  loss=9579.10  active=21236 feature_norm=126.05\n",
            "Iter 41  time=0.12  loss=9538.25  active=21304 feature_norm=126.21\n",
            "Iter 42  time=0.14  loss=9519.34  active=21295 feature_norm=126.29\n",
            "Iter 43  time=0.13  loss=9464.97  active=20854 feature_norm=126.26\n",
            "Iter 44  time=0.25  loss=9445.91  active=20910 feature_norm=127.07\n",
            "Iter 45  time=0.13  loss=9433.42  active=20996 feature_norm=127.16\n",
            "Iter 46  time=0.13  loss=9414.70  active=20882 feature_norm=127.37\n",
            "Iter 47  time=0.14  loss=9391.49  active=20796 feature_norm=127.70\n",
            "Iter 48  time=0.13  loss=9357.33  active=20608 feature_norm=128.40\n",
            "Iter 49  time=0.12  loss=9336.87  active=20460 feature_norm=128.88\n",
            "Iter 50  time=0.12  loss=9316.91  active=20491 feature_norm=129.15\n",
            "Iter 51  time=0.13  loss=9298.73  active=20390 feature_norm=129.51\n",
            "Iter 52  time=0.12  loss=9279.32  active=20023 feature_norm=130.30\n",
            "Iter 53  time=0.12  loss=9259.45  active=20053 feature_norm=130.54\n",
            "Iter 54  time=0.13  loss=9248.61  active=20008 feature_norm=130.77\n",
            "Iter 55  time=0.13  loss=9230.99  active=19872 feature_norm=131.23\n",
            "Iter 56  time=0.12  loss=9217.72  active=19835 feature_norm=131.58\n",
            "Iter 57  time=0.12  loss=9206.60  active=19816 feature_norm=131.83\n",
            "Iter 58  time=0.12  loss=9194.92  active=19737 feature_norm=132.10\n",
            "Iter 59  time=0.13  loss=9185.93  active=19705 feature_norm=132.40\n",
            "Iter 60  time=0.12  loss=9176.15  active=19679 feature_norm=132.69\n",
            "Iter 61  time=0.12  loss=9168.61  active=19671 feature_norm=132.89\n",
            "Iter 62  time=0.13  loss=9160.93  active=19635 feature_norm=133.06\n",
            "Iter 63  time=0.13  loss=9154.09  active=19592 feature_norm=133.20\n",
            "Iter 64  time=0.12  loss=9148.31  active=19541 feature_norm=133.40\n",
            "Iter 65  time=0.12  loss=9142.43  active=19521 feature_norm=133.56\n",
            "Iter 66  time=0.12  loss=9136.47  active=19508 feature_norm=133.72\n",
            "Iter 67  time=0.13  loss=9131.67  active=19472 feature_norm=133.82\n",
            "Iter 68  time=0.12  loss=9126.65  active=19473 feature_norm=133.92\n",
            "Iter 69  time=0.12  loss=9122.23  active=19438 feature_norm=134.04\n",
            "Iter 70  time=0.12  loss=9118.12  active=19404 feature_norm=134.17\n",
            "Iter 71  time=0.13  loss=9113.46  active=19403 feature_norm=134.29\n",
            "Iter 72  time=0.13  loss=9109.31  active=19385 feature_norm=134.37\n",
            "Iter 73  time=0.12  loss=9105.64  active=19382 feature_norm=134.45\n",
            "Iter 74  time=0.13  loss=9102.19  active=19359 feature_norm=134.52\n",
            "Iter 75  time=0.12  loss=9098.92  active=19356 feature_norm=134.61\n",
            "Iter 76  time=0.12  loss=9095.42  active=19352 feature_norm=134.69\n",
            "Iter 77  time=0.13  loss=9091.98  active=19331 feature_norm=134.75\n",
            "Iter 78  time=0.13  loss=9088.98  active=19324 feature_norm=134.78\n",
            "Iter 79  time=0.13  loss=9086.06  active=19299 feature_norm=134.82\n",
            "Iter 80  time=0.12  loss=9083.46  active=19276 feature_norm=134.84\n",
            "Iter 81  time=0.13  loss=9080.72  active=19266 feature_norm=134.88\n",
            "Iter 82  time=0.12  loss=9077.85  active=19251 feature_norm=134.89\n",
            "Iter 83  time=0.21  loss=9075.36  active=19223 feature_norm=134.91\n",
            "Iter 84  time=0.23  loss=9072.65  active=19195 feature_norm=134.91\n",
            "Iter 85  time=0.23  loss=9070.39  active=19173 feature_norm=134.93\n",
            "Iter 86  time=0.22  loss=9067.81  active=19143 feature_norm=134.94\n",
            "Iter 87  time=0.23  loss=9065.18  active=19141 feature_norm=134.95\n",
            "Iter 88  time=0.22  loss=9062.68  active=19115 feature_norm=134.94\n",
            "Iter 89  time=0.22  loss=9060.41  active=19082 feature_norm=134.95\n",
            "Iter 90  time=0.22  loss=9058.26  active=19054 feature_norm=134.94\n",
            "Iter 91  time=0.22  loss=9055.81  active=19044 feature_norm=134.95\n",
            "Iter 92  time=0.22  loss=9053.80  active=19029 feature_norm=134.94\n",
            "Iter 93  time=0.22  loss=9051.85  active=19026 feature_norm=134.94\n",
            "Iter 94  time=0.22  loss=9049.95  active=19015 feature_norm=134.92\n",
            "Iter 95  time=0.22  loss=9048.12  active=18993 feature_norm=134.93\n",
            "Iter 96  time=0.23  loss=9046.31  active=18978 feature_norm=134.91\n",
            "Iter 97  time=0.22  loss=9044.50  active=18963 feature_norm=134.92\n",
            "Iter 98  time=0.23  loss=9042.66  active=18950 feature_norm=134.90\n",
            "Iter 99  time=0.23  loss=9041.05  active=18929 feature_norm=134.90\n",
            "Iter 100 time=0.22  loss=9039.32  active=18910 feature_norm=134.88\n",
            "L-BFGS terminated with the maximum number of iterations\n",
            "Total seconds required for training: 15.240\n",
            "\n",
            "Storing the model\n",
            "Number of active features: 18910 (25163)\n",
            "Number of active attributes: 8618 (12181)\n",
            "Number of active labels: 17 (17)\n",
            "Writing labels\n",
            "Writing attributes\n",
            "Writing feature references for transitions\n",
            "Writing feature references for attributes\n",
            "Seconds required: 0.014\n",
            "\n",
            "CPU times: user 15.9 s, sys: 62.4 ms, total: 15.9 s\n",
            "Wall time: 17.5 s\n"
          ]
        }
      ],
      "source": [
        "%%time\n",
        "crf = sklearn_crfsuite.CRF(\n",
        "    algorithm='lbfgs',\n",
        "    c1=0.1,\n",
        "    c2=0.1,\n",
        "    max_iterations=100,\n",
        "    all_possible_transitions=True,\n",
        "    verbose=True\n",
        ")\n",
        "crf.fit(X_train, y_train)"
      ]
    },
    {
      "cell_type": "code",
      "execution_count": 28,
      "id": "narrow-forestry",
      "metadata": {
        "execution": {
          "iopub.execute_input": "2021-06-27T07:47:44.280799Z",
          "iopub.status.busy": "2021-06-27T07:47:44.279792Z",
          "iopub.status.idle": "2021-06-27T07:47:44.285010Z",
          "shell.execute_reply": "2021-06-27T07:47:44.284328Z",
          "shell.execute_reply.started": "2021-06-27T07:37:56.058553Z"
        },
        "papermill": {
          "duration": 0.149664,
          "end_time": "2021-06-27T07:47:44.285154",
          "exception": false,
          "start_time": "2021-06-27T07:47:44.135490",
          "status": "completed"
        },
        "tags": [],
        "id": "narrow-forestry"
      },
      "outputs": [],
      "source": [
        "all_entities = sorted(df.entities.unique().tolist())"
      ]
    },
    {
      "cell_type": "code",
      "execution_count": 29,
      "id": "checked-vegetation",
      "metadata": {
        "execution": {
          "iopub.execute_input": "2021-06-27T07:47:44.585605Z",
          "iopub.status.busy": "2021-06-27T07:47:44.553501Z",
          "iopub.status.idle": "2021-06-27T07:47:44.719512Z",
          "shell.execute_reply": "2021-06-27T07:47:44.718888Z",
          "shell.execute_reply.started": "2021-06-27T07:37:56.076676Z"
        },
        "papermill": {
          "duration": 0.302739,
          "end_time": "2021-06-27T07:47:44.719659",
          "exception": false,
          "start_time": "2021-06-27T07:47:44.416920",
          "status": "completed"
        },
        "tags": [],
        "id": "checked-vegetation",
        "colab": {
          "base_uri": "https://localhost:8080/"
        },
        "outputId": "65035d59-2b30-4380-e17d-e5bca194b7aa"
      },
      "outputs": [
        {
          "output_type": "execute_result",
          "data": {
            "text/plain": [
              "0.900438090391091"
            ]
          },
          "metadata": {},
          "execution_count": 29
        }
      ],
      "source": [
        "y_pred = crf.predict(X_test)\n",
        "metrics.flat_f1_score(y_test, y_pred, average='weighted', labels=all_entities)"
      ]
    },
    {
      "cell_type": "code",
      "execution_count": 30,
      "id": "fluid-bench",
      "metadata": {
        "execution": {
          "iopub.execute_input": "2021-06-27T07:47:44.997242Z",
          "iopub.status.busy": "2021-06-27T07:47:44.991818Z",
          "iopub.status.idle": "2021-06-27T07:47:45.150677Z",
          "shell.execute_reply": "2021-06-27T07:47:45.150155Z",
          "shell.execute_reply.started": "2021-06-27T07:37:56.359624Z"
        },
        "papermill": {
          "duration": 0.299435,
          "end_time": "2021-06-27T07:47:45.150820",
          "exception": false,
          "start_time": "2021-06-27T07:47:44.851385",
          "status": "completed"
        },
        "tags": [],
        "id": "fluid-bench",
        "colab": {
          "base_uri": "https://localhost:8080/"
        },
        "outputId": "61334983-0c32-4f53-a0b2-b7d8b25a5f61"
      },
      "outputs": [
        {
          "output_type": "execute_result",
          "data": {
            "text/plain": [
              "0.8281450602222045"
            ]
          },
          "metadata": {},
          "execution_count": 30
        }
      ],
      "source": [
        "y_pred = crf.predict(X_test)\n",
        "metrics.flat_f1_score(y_test, y_pred, average='weighted', labels=[i for i in all_entities if i != 'O'])"
      ]
    },
    {
      "cell_type": "code",
      "execution_count": 31,
      "id": "written-keyboard",
      "metadata": {
        "execution": {
          "iopub.execute_input": "2021-06-27T07:47:45.420817Z",
          "iopub.status.busy": "2021-06-27T07:47:45.420149Z",
          "iopub.status.idle": "2021-06-27T07:47:45.545017Z",
          "shell.execute_reply": "2021-06-27T07:47:45.544363Z",
          "shell.execute_reply.started": "2021-06-27T07:37:56.539400Z"
        },
        "papermill": {
          "duration": 0.262255,
          "end_time": "2021-06-27T07:47:45.545158",
          "exception": false,
          "start_time": "2021-06-27T07:47:45.282903",
          "status": "completed"
        },
        "tags": [],
        "id": "written-keyboard",
        "colab": {
          "base_uri": "https://localhost:8080/"
        },
        "outputId": "b4f27b9b-04e6-43b2-821b-637fcb163a52"
      },
      "outputs": [
        {
          "output_type": "stream",
          "name": "stdout",
          "text": [
            "                   precision    recall  f1-score   support\n",
            "\n",
            "        B-Amenity       0.79      0.72      0.75       188\n",
            "        B-Cuisine       0.83      0.89      0.86       243\n",
            "           B-Dish       0.78      0.80      0.79       137\n",
            "          B-Hours       0.84      0.78      0.81        63\n",
            "       B-Location       0.93      0.90      0.91       507\n",
            "          B-Price       0.90      0.87      0.89        62\n",
            "         B-Rating       0.87      0.90      0.89       143\n",
            "B-Restaurant_Name       0.88      0.81      0.84       139\n",
            "        I-Amenity       0.78      0.71      0.74       191\n",
            "        I-Cuisine       0.72      0.77      0.74        66\n",
            "           I-Dish       0.76      0.75      0.76        89\n",
            "          I-Hours       0.86      0.95      0.90        80\n",
            "       I-Location       0.82      0.78      0.80       207\n",
            "          I-Price       0.67      0.43      0.52        14\n",
            "         I-Rating       0.74      0.73      0.73        55\n",
            "I-Restaurant_Name       0.75      0.79      0.77       113\n",
            "                O       0.95      0.96      0.96      3034\n",
            "\n",
            "         accuracy                           0.90      5331\n",
            "        macro avg       0.82      0.80      0.80      5331\n",
            "     weighted avg       0.90      0.90      0.90      5331\n",
            "\n"
          ]
        },
        {
          "output_type": "stream",
          "name": "stderr",
          "text": [
            "/usr/local/lib/python3.7/dist-packages/sklearn/utils/validation.py:70: FutureWarning: Pass labels=['B-Amenity', 'B-Cuisine', 'B-Dish', 'B-Hours', 'B-Location', 'B-Price', 'B-Rating', 'B-Restaurant_Name', 'I-Amenity', 'I-Cuisine', 'I-Dish', 'I-Hours', 'I-Location', 'I-Price', 'I-Rating', 'I-Restaurant_Name', 'O'] as keyword args. From version 0.25 passing these as positional arguments will result in an error\n",
            "  FutureWarning)\n"
          ]
        }
      ],
      "source": [
        "print(metrics.flat_classification_report(y_test, y_pred, labels = all_entities))"
      ]
    }
  ],
  "metadata": {
    "kernelspec": {
      "display_name": "Python 3",
      "language": "python",
      "name": "python3"
    },
    "language_info": {
      "codemirror_mode": {
        "name": "ipython",
        "version": 3
      },
      "file_extension": ".py",
      "mimetype": "text/x-python",
      "name": "python",
      "nbconvert_exporter": "python",
      "pygments_lexer": "ipython3",
      "version": "3.7.10"
    },
    "papermill": {
      "default_parameters": {},
      "duration": 1049.617112,
      "end_time": "2021-06-27T08:03:30.168411",
      "environment_variables": {},
      "exception": null,
      "input_path": "__notebook__.ipynb",
      "output_path": "__notebook__.ipynb",
      "parameters": {},
      "start_time": "2021-06-27T07:46:00.551299",
      "version": "2.3.3"
    },
    "colab": {
      "name": "NER using Restaurant file",
      "provenance": [],
      "collapsed_sections": []
    }
  },
  "nbformat": 4,
  "nbformat_minor": 5
}